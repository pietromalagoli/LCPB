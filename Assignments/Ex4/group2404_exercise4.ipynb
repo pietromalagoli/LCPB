{
 "cells": [
  {
   "cell_type": "markdown",
   "metadata": {},
   "source": [
    "<center><h1>Group 2404 </h1></center>\n",
    "\n",
    "\n",
    "<center><style>\n",
    "table {\n",
    "    font-size: 24px;\n",
    "}\n",
    "</style></center>\n",
    "\n",
    "| Last Name          | First Name            |Student Number|\n",
    "|--------------------|-----------------------|----------------|\n",
    "| Malagoli           | Pietro                |2125711         |\n",
    "| Boccanera          | Eugenia               |2109310         |\n",
    "| Braidi             | Federico              |2122169         |\n",
    "| Lovato             | Matteo                |2104269         |           "
   ]
  },
  {
   "cell_type": "code",
   "execution_count": null,
   "metadata": {},
   "outputs": [],
   "source": []
  }
 ],
 "metadata": {
  "language_info": {
   "name": "python"
  }
 },
 "nbformat": 4,
 "nbformat_minor": 2
}
